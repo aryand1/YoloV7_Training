{
  "nbformat": 4,
  "nbformat_minor": 0,
  "metadata": {
    "colab": {
      "provenance": []
    },
    "kernelspec": {
      "name": "python3",
      "display_name": "Python 3"
    },
    "language_info": {
      "name": "python"
    }
  },
  "cells": [
    {
      "cell_type": "markdown",
      "source": [
        "GIT: https://github.com/karndeepsingh/Yolov7/blob/main/Train_Custom_Model_using_YOLOv7.ipynb\n",
        "\n",
        "YT: https://www.youtube.com/watch?v=rfDj1oORpeg"
      ],
      "metadata": {
        "id": "dCHeR-1JH8T1"
      }
    },
    {
      "cell_type": "code",
      "execution_count": null,
      "metadata": {
        "id": "LRmWOez_H37i"
      },
      "outputs": [],
      "source": [
        "!git clone https://github.com/WongKinYiu/yolov7\n",
        "%cd yolov7\n",
        "\n",
        "!pip install -r requirements.txt      # install modules\n",
        "!wget https://github.com/WongKinYiu/yolov7/releases/download/v0.1/yolov7.pt"
      ]
    },
    {
      "cell_type": "code",
      "source": [
        "!unzip -q /content/Target_of_field.v2i.yolov7pytorch.zip -d /content/test1"
      ],
      "metadata": {
        "id": "tGC8Vzm2IBhd"
      },
      "execution_count": null,
      "outputs": []
    },
    {
      "cell_type": "markdown",
      "source": [
        "#**Intiate Training**"
      ],
      "metadata": {
        "id": "CGbbBrmuIySe"
      }
    },
    {
      "cell_type": "code",
      "source": [
        "!python train.py --weights yolov7.pt --data /content/test1/final_data.v1i.yolov8/data.yaml --workers 8 --batch-size 16 --img 640 640 --cfg cfg/training/yolov7.yaml --name yolov7 --epochs 350 --hyp data/hyp.scratch.p5.yaml\n"
      ],
      "metadata": {
        "id": "0vXibMy0Ixwe"
      },
      "execution_count": null,
      "outputs": []
    },
    {
      "cell_type": "markdown",
      "source": [
        "#This cell will download the best model trained"
      ],
      "metadata": {
        "id": "nbr8DAr5IEyT"
      }
    },
    {
      "cell_type": "code",
      "source": [
        "from google.colab import files\n",
        "\n",
        "# Example: Download a sample file\n",
        "file_path = \"/content/yolov7/runs/train/yolov7/weights/best.pt\"\n",
        "\n",
        "# Use the 'files.download' function to initiate the download\n",
        "files.download(file_path)"
      ],
      "metadata": {
        "id": "dKPJDU5eIEOE"
      },
      "execution_count": null,
      "outputs": []
    },
    {
      "cell_type": "code",
      "source": [
        "!python test.py --data /content/new_data/data.yaml --img 416 --batch 32 --conf 0.36 --iou 0.65 --device 0 --weights /content/yolov7/runs/train/yolov7/weights/best.pt --name yolo"
      ],
      "metadata": {
        "id": "Ec9Uji_-IICc"
      },
      "execution_count": null,
      "outputs": []
    },
    {
      "cell_type": "markdown",
      "source": [
        "## **To detect in bunch, result in runs/detect/exp**"
      ],
      "metadata": {
        "id": "-jV63Ap4IVQJ"
      }
    },
    {
      "cell_type": "code",
      "source": [
        "!python detect.py --weights /content/best.pt --source \"/content/test1/Sample\" --conf 0.60"
      ],
      "metadata": {
        "id": "2lrXn4suIIzE"
      },
      "execution_count": null,
      "outputs": []
    },
    {
      "cell_type": "code",
      "source": [],
      "metadata": {
        "id": "1S_FvMO-IKkk"
      },
      "execution_count": null,
      "outputs": []
    }
  ]
}